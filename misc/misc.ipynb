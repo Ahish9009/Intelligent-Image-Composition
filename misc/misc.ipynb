{
 "cells": [
  {
   "cell_type": "code",
   "execution_count": null,
   "metadata": {},
   "outputs": [],
   "source": [
    "import cv2 as cv\n",
    "import numpy as np\n",
    "import matplotlib.pyplot as plt"
   ]
  },
  {
   "cell_type": "code",
   "execution_count": null,
   "metadata": {},
   "outputs": [],
   "source": [
    "def imshow(img, ax=None, vmin=None, vmax=None, figsize=(7, 7), external=False, title=\"\"):\n",
    "    if external:\n",
    "        cv.imshow(\"imshow\", img)\n",
    "        \n",
    "        while 1:\n",
    "            if cv.waitKey(0) & 0xFF == ord(\"q\"):\n",
    "                break\n",
    "        \n",
    "        cv.destroyAllWindows()\n",
    "        return\n",
    "    \n",
    "    gray = False\n",
    "\n",
    "    if len(img.shape) == 2:\n",
    "        gray = True\n",
    "    if img.shape == 3 and img.shape[-1] == 1:\n",
    "        gray = True\n",
    "\n",
    "    # trying to remove as much as possible\n",
    "    if ax is None:\n",
    "        _, ax = plt.subplots(figsize=figsize)\n",
    "    ax.get_xaxis().set_visible(False)\n",
    "    ax.get_yaxis().set_visible(False)\n",
    "    ax.set_title(title)\n",
    "    ax.autoscale(tight=True)\n",
    "    \n",
    "    if gray:\n",
    "        ax.imshow(img, cmap=\"gray\", vmin=vmin, vmax=vmax)\n",
    "    else:\n",
    "        ax.imshow(img[:, :, ::-1], vmin=vmin, vmax=vmax)"
   ]
  },
  {
   "cell_type": "markdown",
   "metadata": {},
   "source": [
    "## Color Correction\n",
    "\n",
    "### Contrast Limited Adaptive Histogram Equalization (CLAHE)"
   ]
  },
  {
   "cell_type": "code",
   "execution_count": null,
   "metadata": {},
   "outputs": [],
   "source": [
    "def clahe(img, grid_size=7):\n",
    "\tclh_obj = cv.createCLAHE(clipLimit=2.0, tileGridSize=(grid_size, grid_size))\n",
    "\tlab_space = cv.cvtColor(img, cv.COLOR_BGR2LAB)\n",
    "\timg_channels = cv.split(lab_space)\n",
    "\timg_channels[0] = clh_obj.apply(img_channels[0])\n",
    "\treturn cv.cvtColor(cv.merge(img_channels), cv.COLOR_LAB2BGR)"
   ]
  },
  {
   "cell_type": "code",
   "execution_count": null,
   "metadata": {},
   "outputs": [],
   "source": [
    "lena = cv.imread(\"images/lena.jpeg\")\n",
    "imshow(np.hstack([lena, clahe(lena)]), figsize=(15, 15))"
   ]
  }
 ],
 "metadata": {
  "kernelspec": {
   "display_name": "Python 3",
   "language": "python",
   "name": "python3"
  },
  "language_info": {
   "codemirror_mode": {
    "name": "ipython",
    "version": 3
   },
   "file_extension": ".py",
   "mimetype": "text/x-python",
   "name": "python",
   "nbconvert_exporter": "python",
   "pygments_lexer": "ipython3",
   "version": "3.6.6"
  }
 },
 "nbformat": 4,
 "nbformat_minor": 4
}
